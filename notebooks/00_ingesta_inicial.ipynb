{
 "cells": [
  {
   "cell_type": "markdown",
   "id": "de09b172",
   "metadata": {},
   "source": [
    "Extracción de datos"
   ]
  },
  {
   "cell_type": "code",
   "execution_count": 1,
   "id": "672d9c46",
   "metadata": {},
   "outputs": [],
   "source": [
    "import requests\n",
    "\n",
    "url = \"https://valencia.opendatasoft.com/api/explore/v2.1/catalog/datasets/estacions-contaminacio-atmosferiques-estaciones-contaminacion-atmosfericas/records\"\n",
    "response = requests.get(url, timeout=30)\n",
    "response.raise_for_status()\n",
    "data = response.json()  # dict con keys como 'results', 'total_count'"
   ]
  },
  {
   "cell_type": "code",
   "execution_count": 8,
   "id": "97088ae6",
   "metadata": {},
   "outputs": [
    {
     "name": "stdout",
     "output_type": "stream",
     "text": [
      "   total_count                                            results\n",
      "0           11  {'objectid': 22, 'nombre': 'Patraix', 'direcci...\n",
      "1           11  {'objectid': 13, 'nombre': 'Francia', 'direcci...\n",
      "2           11  {'objectid': 15, 'nombre': 'Molí del Sol', 'di...\n",
      "3           11  {'objectid': 21, 'nombre': 'Olivereta', 'direc...\n",
      "4           11  {'objectid': 17, 'nombre': 'Universidad Polité...\n",
      "5           11  {'objectid': 18, 'nombre': 'Viveros', 'direcci...\n",
      "6           11  {'objectid': 19, 'nombre': 'Centro', 'direccio...\n",
      "7           11  {'objectid': 16, 'nombre': 'Pista de Silla', '...\n",
      "8           11  {'objectid': 12, 'nombre': 'Dr. Lluch', 'direc...\n",
      "9           11  {'objectid': 14, 'nombre': 'Boulevar Sur', 'di...\n"
     ]
    }
   ],
   "source": [
    "import pandas as pd\n",
    "df = pd.DataFrame(data)\n",
    "print(df)"
   ]
  },
  {
   "cell_type": "code",
   "execution_count": 10,
   "id": "48aecdff",
   "metadata": {},
   "outputs": [
    {
     "name": "stdout",
     "output_type": "stream",
     "text": [
      "Conexión a PostgreSQL exitosa!\n"
     ]
    }
   ],
   "source": [
    "# postgres_example.py\n",
    "import psycopg2\n",
    "from psycopg2 import sql\n",
    "\n",
    "# --- Parámetros de conexión ---\n",
    "# Asegúrate de que el contenedor Docker esté corriendo\n",
    "DB_HOST = \"localhost\"\n",
    "DB_PORT = \"5432\"\n",
    "DB_NAME = \"postgres\"  # Base de datos por defecto\n",
    "DB_USER = \"postgres\"  # Usuario por defecto\n",
    "DB_PASS = \"mysecretpassword\" # La que pusiste en el comando docker run\n",
    "\n",
    "# 1. Establecer la conexión\n",
    "conn = psycopg2.connect(\n",
    "    host=DB_HOST,\n",
    "    port=DB_PORT,\n",
    "    dbname=DB_NAME,\n",
    "    user=DB_USER,\n",
    "    password=DB_PASS\n",
    ")\n",
    "print(\"Conexión a PostgreSQL exitosa!\")\n",
    "\n",
    "# 2. Crear un cursor (autocommit=True para que los cambios se apliquen inmediatamente)\n",
    "conn.autocommit = True\n",
    "cursor = conn.cursor()"
   ]
  }
 ],
 "metadata": {
  "kernelspec": {
   "display_name": "calidad_aire",
   "language": "python",
   "name": "python3"
  },
  "language_info": {
   "codemirror_mode": {
    "name": "ipython",
    "version": 3
   },
   "file_extension": ".py",
   "mimetype": "text/x-python",
   "name": "python",
   "nbconvert_exporter": "python",
   "pygments_lexer": "ipython3",
   "version": "3.11.13"
  }
 },
 "nbformat": 4,
 "nbformat_minor": 5
}
