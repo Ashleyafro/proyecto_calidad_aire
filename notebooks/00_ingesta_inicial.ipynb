{
 "cells": [
  {
   "cell_type": "markdown",
   "id": "de09b172",
   "metadata": {},
   "source": [
    "Extracción de datos"
   ]
  },
  {
   "cell_type": "code",
   "execution_count": null,
   "id": "672d9c46",
   "metadata": {
    "vscode": {
     "languageId": "plaintext"
    }
   },
   "outputs": [],
   "source": [
    "import requests\n",
    "\n",
    "url = \"https://valencia.opendatasoft.com/api/explore/v2.1/catalog/datasets/estacions-contaminacio-atmosferiques-estaciones-contaminacion-atmosfericas/records\"\n",
    "response = requests.get(url, timeout=30)\n",
    "response.raise_for_status()\n",
    "data = response.json()  # dict con keys como 'results', 'total_count'"
   ]
  }
 ],
 "metadata": {
  "language_info": {
   "name": "python"
  }
 },
 "nbformat": 4,
 "nbformat_minor": 5
}
